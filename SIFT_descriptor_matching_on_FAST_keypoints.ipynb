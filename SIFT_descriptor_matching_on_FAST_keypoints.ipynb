{
  "nbformat": 4,
  "nbformat_minor": 0,
  "metadata": {
    "colab": {
      "name": "SIFT descriptor matching on FAST keypoints",
      "version": "0.3.2",
      "provenance": [],
      "collapsed_sections": [],
      "include_colab_link": true
    },
    "kernelspec": {
      "name": "python3",
      "display_name": "Python 3"
    }
  },
  "cells": [
    {
      "cell_type": "markdown",
      "metadata": {
        "id": "view-in-github",
        "colab_type": "text"
      },
      "source": [
        "<a href=\"https://colab.research.google.com/github/Po-Jui-Lin/Short-Term-Precipitation-Forecasting-Based-on-Radar-Reflectivity-Images/blob/master/SIFT_descriptor_matching_on_FAST_keypoints.ipynb\" target=\"_parent\"><img src=\"https://colab.research.google.com/assets/colab-badge.svg\" alt=\"Open In Colab\"/></a>"
      ]
    },
    {
      "metadata": {
        "id": "tSmFAzh9eCGF",
        "colab_type": "code",
        "outputId": "41d91f5f-2569-4b21-8dc9-b6addfbce66c",
        "colab": {
          "base_uri": "https://localhost:8080/",
          "height": 87
        }
      },
      "cell_type": "code",
      "source": [
        "!pip install opencv-python==3.4.2.16 && pip install opencv-contrib-python==3.4.2.16 # ! to run code in the terminal, opencv-contrib to get the patent\n",
        "import cv2\n",
        "import matplotlib.pyplot as plt\n",
        "import numpy as np"
      ],
      "execution_count": 0,
      "outputs": [
        {
          "output_type": "stream",
          "text": [
            "Requirement already satisfied: opencv-python==3.4.2.16 in /usr/local/lib/python3.6/dist-packages (3.4.2.16)\n",
            "Requirement already satisfied: numpy>=1.11.3 in /usr/local/lib/python3.6/dist-packages (from opencv-python==3.4.2.16) (1.14.6)\n",
            "Requirement already satisfied: opencv-contrib-python==3.4.2.16 in /usr/local/lib/python3.6/dist-packages (3.4.2.16)\n",
            "Requirement already satisfied: numpy>=1.11.3 in /usr/local/lib/python3.6/dist-packages (from opencv-contrib-python==3.4.2.16) (1.14.6)\n"
          ],
          "name": "stdout"
        }
      ]
    },
    {
      "metadata": {
        "id": "C87VBjmWeQPi",
        "colab_type": "code",
        "colab": {}
      },
      "cell_type": "code",
      "source": [
        "from google.colab import files\n",
        "\n",
        "uploaded = files.upload()\n",
        "\n",
        "for fn in uploaded.keys():\n",
        "  print('User uploaded file \"{name}\" with length {length} bytes'.format(\n",
        "      name=fn, length=len(uploaded[fn])))"
      ],
      "execution_count": 0,
      "outputs": []
    },
    {
      "metadata": {
        "id": "SHsGc_WNedBD",
        "colab_type": "code",
        "colab": {}
      },
      "cell_type": "code",
      "source": [
        "def get_img(name):    #helper func\n",
        "  img_bytes = uploaded[name]\n",
        "\n",
        "  arr = np.frombuffer(img_bytes, np.uint8)\n",
        "  img = cv2.imdecode(arr, 0)\n",
        "  return img"
      ],
      "execution_count": 0,
      "outputs": []
    },
    {
      "metadata": {
        "id": "0y_D5Ba8e799",
        "colab_type": "code",
        "colab": {}
      },
      "cell_type": "code",
      "source": [
        "img1 = get_img('RAD100816020600.png')\n",
        "img2 = get_img('RAD100816021200.png')"
      ],
      "execution_count": 0,
      "outputs": []
    },
    {
      "metadata": {
        "id": "KM8sZ6sNe_XG",
        "colab_type": "code",
        "colab": {}
      },
      "cell_type": "code",
      "source": [
        "fig, axes = plt.subplots(1, 2)    # no. of rols , no. of cols\n",
        "\n",
        "axes[0].imshow(img1, cmap='gray')\n",
        "axes[0].grid(False)\n",
        "axes[1].imshow(img2, cmap='gray')\n",
        "axes[1].grid(False)"
      ],
      "execution_count": 0,
      "outputs": []
    },
    {
      "metadata": {
        "id": "YFa12C4Ggyah",
        "colab_type": "code",
        "colab": {}
      },
      "cell_type": "code",
      "source": [
        "fast = cv2.FastFeatureDetector_create()\n",
        "kp_fast_1 = fast.detect(img1, None)\n",
        "kp_fast_2 = fast.detect(img2, None)"
      ],
      "execution_count": 0,
      "outputs": []
    },
    {
      "metadata": {
        "id": "40I7X5PqfHli",
        "colab_type": "code",
        "colab": {}
      },
      "cell_type": "code",
      "source": [
        "sift = cv2.xfeatures2d.SIFT_create()\n",
        "kp_sift_1, des1 = sift.compute(img1,kp_fast_1) \n",
        "kp_sift_2, des2 = sift.compute(img2,kp_fast_2) "
      ],
      "execution_count": 0,
      "outputs": []
    },
    {
      "metadata": {
        "id": "SAk0P0eAfNNe",
        "colab_type": "code",
        "colab": {}
      },
      "cell_type": "code",
      "source": [
        "bf = cv2.BFMatcher(cv2.NORM_L2, crossCheck=True)  # brute force matcher, crossCheck to check matching mutually, L2 distance in 2 dimension\n",
        "matches = bf.match(des1, des2)"
      ],
      "execution_count": 0,
      "outputs": []
    },
    {
      "metadata": {
        "id": "zNbBjGXFfQW8",
        "colab_type": "code",
        "colab": {}
      },
      "cell_type": "code",
      "source": [
        "# Sort them in the order of their distance.\n",
        "matches = sorted(matches, key = lambda x:x.distance)  #\n",
        "img3 = cv2.drawMatches(img1, kp_fast_1, img2, kp_fast_2, matches[:50], None, flags=2)\n",
        "plt.figure(figsize=(10, 10))\n",
        "plt.imshow(img3)\n",
        "plt.grid(False)"
      ],
      "execution_count": 0,
      "outputs": []
    },
    {
      "metadata": {
        "id": "NCHZraQsnHao",
        "colab_type": "code",
        "colab": {}
      },
      "cell_type": "code",
      "source": [
        ""
      ],
      "execution_count": 0,
      "outputs": []
    }
  ]
}