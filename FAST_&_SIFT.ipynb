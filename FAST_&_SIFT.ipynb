{
  "nbformat": 4,
  "nbformat_minor": 0,
  "metadata": {
    "colab": {
      "name": "FAST & SIFT ",
      "version": "0.3.2",
      "provenance": [],
      "include_colab_link": true
    },
    "kernelspec": {
      "name": "python3",
      "display_name": "Python 3"
    }
  },
  "cells": [
    {
      "cell_type": "markdown",
      "metadata": {
        "id": "view-in-github",
        "colab_type": "text"
      },
      "source": [
        "<a href=\"https://colab.research.google.com/github/Po-Jui-Lin/Short-Term-Precipitation-Forecasting-Based-on-Radar-Reflectivity-Images/blob/master/FAST_%26_SIFT.ipynb\" target=\"_parent\"><img src=\"https://colab.research.google.com/assets/colab-badge.svg\" alt=\"Open In Colab\"/></a>"
      ]
    },
    {
      "metadata": {
        "id": "vZHsJk3iIuka",
        "colab_type": "code",
        "colab": {}
      },
      "cell_type": "code",
      "source": [
        "import numpy"
      ],
      "execution_count": 0,
      "outputs": []
    },
    {
      "metadata": {
        "id": "5Su7fZI2JFwn",
        "colab_type": "code",
        "colab": {}
      },
      "cell_type": "code",
      "source": [
        "from google.colab import drive\n",
        "drive.mount('/content/gdrive')"
      ],
      "execution_count": 0,
      "outputs": []
    },
    {
      "metadata": {
        "id": "wBpBqq09KRaE",
        "colab_type": "code",
        "colab": {}
      },
      "cell_type": "code",
      "source": [
        "with open('/content/gdrive/My Drive/training set/16 trainning/RAD100816030000.png', 'r') as f:\n",
        "  print(f)"
      ],
      "execution_count": 0,
      "outputs": []
    },
    {
      "metadata": {
        "id": "DmHTm00oLbeT",
        "colab_type": "code",
        "colab": {}
      },
      "cell_type": "code",
      "source": [
        "import glob\n",
        "\n",
        "glob.glob('/content/gdrive/My Drive/training set/16 trainning*')"
      ],
      "execution_count": 0,
      "outputs": []
    },
    {
      "metadata": {
        "id": "EOPkgem3LuCA",
        "colab_type": "code",
        "colab": {}
      },
      "cell_type": "code",
      "source": [
        "import cv2\n",
        "\n",
        "img = cv2.imread('/content/gdrive/My Drive/training set/16 trainning/RAD100816030000.png', 0)\n",
        "img.shape"
      ],
      "execution_count": 0,
      "outputs": []
    },
    {
      "metadata": {
        "id": "Fsm0n0cWNaey",
        "colab_type": "code",
        "colab": {}
      },
      "cell_type": "code",
      "source": [
        "import matplotlib.pyplot as plt"
      ],
      "execution_count": 0,
      "outputs": []
    },
    {
      "metadata": {
        "id": "lY8bw5yhNrTY",
        "colab_type": "code",
        "colab": {}
      },
      "cell_type": "code",
      "source": [
        "%matplotlib inline   \n",
        "#Provided you are running IPython, the %matplotlib inline will make your plot outputs appear and be stored within the notebook."
      ],
      "execution_count": 0,
      "outputs": []
    },
    {
      "metadata": {
        "id": "EqAzYjN4Nv5W",
        "colab_type": "code",
        "colab": {}
      },
      "cell_type": "code",
      "source": [
        "plt.figure(figsize=(5, 5))      #set the dimension of image to be 5*5 inches\n",
        "plt.imshow(img, cmap='gray')    #cmap to set the color of the displayed image"
      ],
      "execution_count": 0,
      "outputs": []
    },
    {
      "metadata": {
        "id": "AQC70EMDN0Fq",
        "colab_type": "code",
        "colab": {}
      },
      "cell_type": "code",
      "source": [
        "fast = cv2.FastFeatureDetector_create()"
      ],
      "execution_count": 0,
      "outputs": []
    },
    {
      "metadata": {
        "id": "8CBKsDQDPLtI",
        "colab_type": "code",
        "colab": {}
      },
      "cell_type": "code",
      "source": [
        "kp_fast = fast.detect(img, None)\n",
        "print(len(kp_fast))\n",
        "print(kp_fast)\n"
      ],
      "execution_count": 0,
      "outputs": []
    },
    {
      "metadata": {
        "id": "RvJ-k_psPSFm",
        "colab_type": "code",
        "colab": {}
      },
      "cell_type": "code",
      "source": [
        "img2 = cv2.drawKeypoints(img, kp_fast, None, color=(255,0,0))  #creates a new image based on the original img by adding kp with color red\n",
        "plt.figure(figsize=(10, 10))\n",
        "plt.imshow(img2)"
      ],
      "execution_count": 0,
      "outputs": []
    },
    {
      "metadata": {
        "id": "BlhzheEUPWy9",
        "colab_type": "code",
        "colab": {}
      },
      "cell_type": "code",
      "source": [
        "!pip install opencv-python && pip install opencv-contrib-python"
      ],
      "execution_count": 0,
      "outputs": []
    },
    {
      "metadata": {
        "id": "l12nznrBR9Hb",
        "colab_type": "code",
        "colab": {}
      },
      "cell_type": "code",
      "source": [
        "import cv2\n",
        "sift = cv2.xfeatures2d.SIFT_create()\n",
        "kp = sift.detect(img, None)\n",
        "img_sift = cv2.drawKeypoints(img, kp, None)\n",
        "plt.figure(figsize=(10, 10))\n",
        "plt.imshow(img_sift)"
      ],
      "execution_count": 0,
      "outputs": []
    }
  ]
}