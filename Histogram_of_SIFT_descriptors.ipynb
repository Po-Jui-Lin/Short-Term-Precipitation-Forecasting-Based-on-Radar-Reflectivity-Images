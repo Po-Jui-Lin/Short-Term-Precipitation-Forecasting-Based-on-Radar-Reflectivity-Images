{
  "nbformat": 4,
  "nbformat_minor": 0,
  "metadata": {
    "colab": {
      "name": "Histogram of SIFT descriptors",
      "version": "0.3.2",
      "provenance": [],
      "include_colab_link": true
    },
    "kernelspec": {
      "name": "python3",
      "display_name": "Python 3"
    }
  },
  "cells": [
    {
      "cell_type": "markdown",
      "metadata": {
        "id": "view-in-github",
        "colab_type": "text"
      },
      "source": [
        "<a href=\"https://colab.research.google.com/github/Po-Jui-Lin/Short-Term-Precipitation-Forecasting-Based-on-Radar-Reflectivity-Images/blob/master/Histogram_of_SIFT_descriptors.ipynb\" target=\"_parent\"><img src=\"https://colab.research.google.com/assets/colab-badge.svg\" alt=\"Open In Colab\"/></a>"
      ]
    },
    {
      "metadata": {
        "id": "vh-qF7hMXX-W",
        "colab_type": "code",
        "colab": {}
      },
      "cell_type": "code",
      "source": [
        "!pip install opencv-python==3.4.2.16 && pip install opencv-contrib-python==3.4.2.16 # ! to run code in the terminal, opencv-contrib to get the patent"
      ],
      "execution_count": 0,
      "outputs": []
    },
    {
      "metadata": {
        "id": "DQwAGP_Zr5LD",
        "colab_type": "code",
        "colab": {}
      },
      "cell_type": "code",
      "source": [
        "import cv2\n",
        "import matplotlib.pyplot as plt\n",
        "import numpy as np"
      ],
      "execution_count": 0,
      "outputs": []
    },
    {
      "metadata": {
        "id": "h4g2pUcxy04V",
        "colab_type": "code",
        "colab": {}
      },
      "cell_type": "code",
      "source": [
        "from google.colab import drive\n",
        "drive.mount('/content/gdrive')\n",
        "\n",
        "import glob\n",
        "\n",
        "img_files = glob.glob('/content/gdrive/My Drive/training set/16 trainning/*.png')\n",
        "print(img_files)"
      ],
      "execution_count": 0,
      "outputs": []
    },
    {
      "metadata": {
        "id": "wW1amZJm0DO0",
        "colab_type": "code",
        "colab": {}
      },
      "cell_type": "code",
      "source": [
        "imgs_data = [cv2.imread(image,0) for image in img_files ]\n"
      ],
      "execution_count": 0,
      "outputs": []
    },
    {
      "metadata": {
        "id": "z1RyI36i1HZ1",
        "colab_type": "code",
        "colab": {}
      },
      "cell_type": "code",
      "source": [
        "imgs_data[0]\n",
        "plt.imshow(imgs_data[0],cmap = 'gray')"
      ],
      "execution_count": 0,
      "outputs": []
    },
    {
      "metadata": {
        "id": "7sgJDl6OVlzx",
        "colab_type": "code",
        "colab": {}
      },
      "cell_type": "code",
      "source": [
        "fast = cv2.FastFeatureDetector_create()\n",
        "sift = cv2.xfeatures2d.SIFT_create()\n",
        "orb = cv2.ORB_create()\n",
        "trace_save ={}\n",
        "bf = cv2.BFMatcher(cv2.NORM_HAMMING, crossCheck=True)\n"
      ],
      "execution_count": 0,
      "outputs": []
    },
    {
      "metadata": {
        "id": "nQZqpZs758IZ",
        "colab_type": "code",
        "colab": {}
      },
      "cell_type": "code",
      "source": [
        "sift_results = {}\n"
      ],
      "execution_count": 0,
      "outputs": []
    },
    {
      "metadata": {
        "id": "YYk5-02pxrPR",
        "colab_type": "code",
        "colab": {}
      },
      "cell_type": "code",
      "source": [
        "for ind, img in enumerate(imgs_data):\n",
        "  kp = fast.detect(img,None)\n",
        "  kp, des = sift.compute(img,kp)\n",
        "  sift_results[ind] = (kp, des)\n",
        "\n",
        "  if ind == 0:\n",
        "    des_stack = des[:]\n",
        "  else :\n",
        "    des_stack = np.vstack([des_stack,des])"
      ],
      "execution_count": 0,
      "outputs": []
    },
    {
      "metadata": {
        "id": "a4nz0PEi152m",
        "colab_type": "code",
        "colab": {}
      },
      "cell_type": "code",
      "source": [
        "print(des_stack.shape)     # every descripter have 128 elements, and descriptors are stacked "
      ],
      "execution_count": 0,
      "outputs": []
    },
    {
      "metadata": {
        "id": "upcSHGny3kYs",
        "colab_type": "code",
        "colab": {}
      },
      "cell_type": "code",
      "source": [
        "from sklearn.cluster import KMeans\n",
        "N_centroids = 8"
      ],
      "execution_count": 0,
      "outputs": []
    },
    {
      "metadata": {
        "id": "5mWNm7AHx7mv",
        "colab_type": "code",
        "colab": {}
      },
      "cell_type": "code",
      "source": [
        "k_means = KMeans(init='k-means++', n_clusters=N_centroids, n_init=10,random_state=23)\n",
        "k_means.fit(des_stack)\n",
        "k_means_cluster_centers = np.sort(k_means.cluster_centers_, axis=0)\n"
      ],
      "execution_count": 0,
      "outputs": []
    },
    {
      "metadata": {
        "id": "5hEUhvbn5Etn",
        "colab_type": "code",
        "colab": {}
      },
      "cell_type": "code",
      "source": [
        "k_means_cluster_centers.shape"
      ],
      "execution_count": 0,
      "outputs": []
    },
    {
      "metadata": {
        "id": "zMOFJin2rYkp",
        "colab_type": "code",
        "colab": {}
      },
      "cell_type": "code",
      "source": [
        "kp_name = map(lambda x:'kp'+ str(x).zfill(2), np.arange(1,N_centroids+1))\n",
        "hist_bin = np.arange(-0.5,N_centroids+0.5)"
      ],
      "execution_count": 0,
      "outputs": []
    },
    {
      "metadata": {
        "id": "QNStm5ob_wFB",
        "colab_type": "code",
        "colab": {}
      },
      "cell_type": "code",
      "source": [
        "from sklearn.metrics.pairwise import pairwise_distances_argmin"
      ],
      "execution_count": 0,
      "outputs": []
    },
    {
      "metadata": {
        "id": "nVIjkPpP5Wt2",
        "colab_type": "code",
        "colab": {}
      },
      "cell_type": "code",
      "source": [
        "for ind, img in enumerate(imgs_data):\n",
        "  kp, des = sift_results[ind]\n",
        "  des_class = pairwise_distances_argmin(des, k_means_cluster_centers)\n",
        "  des_hist = np.histogram(des_class,hist_bin)[0]"
      ],
      "execution_count": 0,
      "outputs": []
    },
    {
      "metadata": {
        "id": "i-ul2j8J_ypV",
        "colab_type": "code",
        "colab": {}
      },
      "cell_type": "code",
      "source": [
        "print(des_hist)\n"
      ],
      "execution_count": 0,
      "outputs": []
    }
  ]
}