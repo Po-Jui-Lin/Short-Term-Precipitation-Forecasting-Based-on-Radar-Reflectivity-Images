{
  "nbformat": 4,
  "nbformat_minor": 0,
  "metadata": {
    "colab": {
      "name": "SIFT with kepoint matching",
      "version": "0.3.2",
      "provenance": [],
      "collapsed_sections": [],
      "include_colab_link": true
    },
    "kernelspec": {
      "name": "python3",
      "display_name": "Python 3"
    }
  },
  "cells": [
    {
      "cell_type": "markdown",
      "metadata": {
        "id": "view-in-github",
        "colab_type": "text"
      },
      "source": [
        "<a href=\"https://colab.research.google.com/github/Po-Jui-Lin/Short-Term-Precipitation-Forecasting-Based-on-Radar-Reflectivity-Images/blob/master/SIFT_with_kepoint_matching.ipynb\" target=\"_parent\"><img src=\"https://colab.research.google.com/assets/colab-badge.svg\" alt=\"Open In Colab\"/></a>"
      ]
    },
    {
      "metadata": {
        "id": "05EJnr1Hx7DL",
        "colab_type": "code",
        "colab": {}
      },
      "cell_type": "code",
      "source": [
        "!pip install opencv-python==3.4.2.16 && pip install opencv-contrib-python==3.4.2.16 # ! to run code in the terminal, opencv-contrib to get the patent"
      ],
      "execution_count": 0,
      "outputs": []
    },
    {
      "metadata": {
        "id": "7yLvHfULyGHG",
        "colab_type": "code",
        "colab": {}
      },
      "cell_type": "code",
      "source": [
        "import cv2\n",
        "import matplotlib.pyplot as plt\n",
        "import numpy as np"
      ],
      "execution_count": 0,
      "outputs": []
    },
    {
      "metadata": {
        "id": "769nLmOJz7ox",
        "colab_type": "code",
        "colab": {}
      },
      "cell_type": "code",
      "source": [
        "from google.colab import files\n",
        "\n",
        "uploaded = files.upload()\n",
        "\n",
        "for fn in uploaded.keys():\n",
        "  print('User uploaded file \"{name}\" with length {length} bytes'.format(\n",
        "      name=fn, length=len(uploaded[fn])))"
      ],
      "execution_count": 0,
      "outputs": []
    },
    {
      "metadata": {
        "id": "9mmZSCuOu1hK",
        "colab_type": "code",
        "colab": {}
      },
      "cell_type": "code",
      "source": [
        "def get_img(name):    #helper func\n",
        "  img_bytes = uploaded[name]\n",
        "\n",
        "  arr = np.frombuffer(img_bytes, np.uint8)\n",
        "  img = cv2.imdecode(arr, 0)\n",
        "  return img"
      ],
      "execution_count": 0,
      "outputs": []
    },
    {
      "metadata": {
        "id": "GDgKGfy5vBd3",
        "colab_type": "code",
        "colab": {}
      },
      "cell_type": "code",
      "source": [
        "img1 = get_img('RAD100816020600.png')\n",
        "img2 = get_img('RAD100816021200.png')"
      ],
      "execution_count": 0,
      "outputs": []
    },
    {
      "metadata": {
        "id": "OZonGhlVvK9f",
        "colab_type": "code",
        "colab": {}
      },
      "cell_type": "code",
      "source": [
        "fig, axes = plt.subplots(1, 2)    # no. of rols , no. of cols\n",
        "\n",
        "axes[0].imshow(img1, cmap='gray')\n",
        "axes[0].grid(False)\n",
        "axes[1].imshow(img2, cmap='gray')\n",
        "axes[1].grid(False)"
      ],
      "execution_count": 0,
      "outputs": []
    },
    {
      "metadata": {
        "id": "AJiZK4_QvZX0",
        "colab_type": "code",
        "colab": {}
      },
      "cell_type": "code",
      "source": [
        "kp1, des1 = sift.detectAndCompute(img1, None)\n",
        "kp2, des2 = sift.detectAndCompute(img2, None)\n",
        "\n",
        "fig, axes = plt.subplots(1, 2, figsize=(10, 5))\n",
        "axes[0].imshow(cv2.drawKeypoints(img1, kp1, None))\n",
        "axes[1].imshow(cv2.drawKeypoints(img2, kp2, None))\n",
        "axes[0].grid(False)\n",
        "axes[1].grid(False)\n",
        "\n"
      ],
      "execution_count": 0,
      "outputs": []
    },
    {
      "metadata": {
        "id": "DZxrBZHXv8mr",
        "colab_type": "code",
        "colab": {}
      },
      "cell_type": "code",
      "source": [
        "bf = cv2.BFMatcher(cv2.NORM_L2, crossCheck=True)  # brute force matcher, crossCheck to check matching mutually, L2 distance in 2 dimension\n",
        "matches = bf.match(des1, des2)"
      ],
      "execution_count": 0,
      "outputs": []
    },
    {
      "metadata": {
        "id": "mrhT_ABcwBwt",
        "colab_type": "code",
        "colab": {}
      },
      "cell_type": "code",
      "source": [
        "# Sort them in the order of their distance.\n",
        "matches = sorted(matches, key = lambda x:x.distance)  #\n",
        "img3 = cv2.drawMatches(img1, kp1, img2, kp2, matches[:10], None, flags=2)\n",
        "\n",
        "plt.figure(figsize=(10, 10))\n",
        "plt.imshow(img3)\n",
        "plt.grid(False)"
      ],
      "execution_count": 0,
      "outputs": []
    }
  ]
}